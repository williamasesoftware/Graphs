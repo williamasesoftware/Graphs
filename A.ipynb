{
 "cells": [
  {
   "attachments": {},
   "cell_type": "markdown",
   "metadata": {},
   "source": [
    "### Cost with A"
   ]
  },
  {
   "cell_type": "code",
   "execution_count": 2,
   "metadata": {},
   "outputs": [
    {
     "name": "stdout",
     "output_type": "stream",
     "text": [
      "Grafo:\n",
      "{'A': {'B': 3, 'C': 3}, 'B': {'L': 7}, 'C': {'F': 2, 'J': 6, 'M': 4}, 'F': {'M': 0}, 'J': {'R': 1}, 'L': {}, 'M': {}, 'R': {}}\n",
      "Pesos adicionales de cada nodo:\n",
      "{'A': 20, 'B': 2, 'C': 5, 'F': 7, 'J': 4, 'L': 3, 'M': 5, 'R': 0}\n"
     ]
    }
   ],
   "source": [
    "graph = {\n",
    "    'A': {'B': 3, 'C': 3},\n",
    "    'B': {'L': 7},\n",
    "    'C': {'F': 2, 'J': 6, 'M': 4},\n",
    "    'F': {'M': 0},\n",
    "    'J': {'R': 1},\n",
    "    'L': {},\n",
    "    'M': {},\n",
    "    'R': {}\n",
    "}\n",
    "\n",
    "# Agregar pesos adicionales a cada nodo\n",
    "node_weights = {'A': 20, 'B': 2, 'C': 5, 'F': 7, 'J': 4 ,'L': 3,'M':5,'R':0}\n",
    "\n",
    "# Imprimir el grafo y los pesos adicionales de cada nodo\n",
    "print(\"Grafo:\")\n",
    "print(graph)\n",
    "print(\"Pesos adicionales de cada nodo:\")\n",
    "print(node_weights)\n"
   ]
  },
  {
   "cell_type": "code",
   "execution_count": 4,
   "metadata": {},
   "outputs": [
    {
     "name": "stdout",
     "output_type": "stream",
     "text": [
      "Distancia más corta: (Heuristic) 43.75566021084106\n",
      "Costo total más corto:  19\n",
      "Costo + Heuristic:  62.75566021084106\n",
      "Camino más corto: ['A', 'C', 'J', 'R']\n"
     ]
    }
   ],
   "source": [
    "import heapq\n",
    "\n",
    "def astar(graph, start, end, node_weights):\n",
    "    # Creamos dos diccionarios para almacenar la distancia y los padres de cada nodo\n",
    "    distances = {node: float('inf') for node in graph}\n",
    "    parents = {node: None for node in graph}\n",
    "\n",
    "    # El nodo inicial tiene una distancia de 0\n",
    "    distances[start] = 0\n",
    "\n",
    "    # Creamos un heap vacío y añadimos el nodo inicial con su prioridad\n",
    "    heap = [(0, start)]\n",
    "\n",
    "    # Mientras el heap no esté vacío, seguimos buscando el nodo con la menor distancia\n",
    "    while heap:\n",
    "        # Sacamos el nodo con la menor distancia del heap\n",
    "        current_distance, current_node = heapq.heappop(heap)\n",
    "\n",
    "        # Si hemos llegado al nodo final, terminamos la búsqueda\n",
    "        if current_node == end:\n",
    "            break\n",
    "\n",
    "        # Para cada vecino del nodo actual, calculamos su nueva distancia y la añadimos al heap\n",
    "        for neighbor, weight in graph[current_node].items():\n",
    "            # Calculamos la nueva distancia sumando la distancia actual del nodo al vecino, el peso de la arista y el peso adicional del nodo\n",
    "            distance = current_distance + weight + node_weights[neighbor]\n",
    "\n",
    "            # Si la nueva distancia es menor que la distancia actual del vecino, actualizamos su distancia y su padre\n",
    "            if distance < distances[neighbor]:\n",
    "                distances[neighbor] = distance\n",
    "                parents[neighbor] = current_node\n",
    "\n",
    "                # Añadimos el vecino al heap con su nueva prioridad\n",
    "                priority = distance + heuristic(neighbor, end, node_weights)\n",
    "                heapq.heappush(heap, (priority, neighbor))\n",
    "\n",
    "    # Construimos el camino más corto a partir de los padres\n",
    "    path = []\n",
    "    node = end\n",
    "    while node is not None:\n",
    "        path.append(node)\n",
    "        node = parents[node]\n",
    "    path.reverse()\n",
    "\n",
    "    # Calculamos el peso total del camino más corto\n",
    "    total_weight = 0\n",
    "    for i in range(len(path) - 1):\n",
    "        current_node = path[i]\n",
    "        next_node = path[i+1]\n",
    "        total_weight += graph[current_node][next_node] + node_weights[next_node]\n",
    "\n",
    "    # Devolvemos tanto la distancia más corta como el camino más corto\n",
    "    return distances[end], path, total_weight\n",
    "\n",
    "def heuristic(node, end, node_weights):\n",
    "    # Calculamos una heurística muy simple: la distancia euclidiana entre el nodo actual y el nodo final\n",
    "    x1, y1 = node_weights[node], ord(node)\n",
    "    x2, y2 = node_weights[end], ord(end)\n",
    "    return ((x2-x1)**2 + (y2-y1)**2)**0.5\n",
    "\n",
    "# Definimos el nodo inicial y el nodo final\n",
    "start = 'A'\n",
    "end = 'R'\n",
    "\n",
    "# Calculamos la distancia más corta y el camino más corto utilizando el método A*\n",
    "distance, path, total_cost = astar(graph, start, end, node_weights)\n",
    "\n",
    "# Imprimimos la distancia más corta y el camino más corto\n",
    "print(\"Distancia más corta: (Heuristic)\", distance)\n",
    "print(\"Costo total más corto: \", total_cost)\n",
    "print(\"Costo + Heuristic: \" , distance+total_cost)\n",
    "print(\"Camino más corto:\", path)\n",
    "\n"
   ]
  },
  {
   "cell_type": "code",
   "execution_count": 6,
   "metadata": {},
   "outputs": [
    {
     "name": "stdout",
     "output_type": "stream",
     "text": [
      "Grafo:\n",
      "{'A': {'B': 8, 'C': 6, 'D': 7}, 'B': {'F': 7, 'K': 1}, 'C': {'E': 5, 'F': 1}, 'D': {'E': 2, 'I': 3}, 'E': {'J': 4, 'L': 3, 'Z': 4}, 'F': {'L': 8}, 'I': {'J': 6}, 'J': {'Z': 5}, 'K': {'L': 3}, 'L': {'Z': 1}, 'Z': {}}\n",
      "Pesos adicionales de cada nodo:\n",
      "{'A': 20, 'B': 19, 'C': 15, 'D': 16, 'E': 6, 'F': 5, 'I': 6, 'J': 4, 'K': 7, 'L': 2, 'Z': 0}\n"
     ]
    }
   ],
   "source": [
    "graph2 = {\n",
    "    'A': {'B': 8, 'C': 6, 'D': 7 },\n",
    "    'B': {'F': 7, 'K': 1},\n",
    "    'C': {'E': 5, 'F': 1},\n",
    "    'D': {'E': 2, 'I': 3},\n",
    "    'E': {'J': 4, 'L': 3, 'Z': 4},\n",
    "    'F': {'L': 8},\n",
    "    'I': {'J': 6},\n",
    "    'J': {'Z': 5},\n",
    "    'K': {'L': 3},\n",
    "    'L': {'Z': 1},\n",
    "    'Z': {}\n",
    "}\n",
    "\n",
    "# Agregar pesos adicionales a cada nodo\n",
    "node_weights2 = {'A': 20, 'B': 19, 'C': 15, 'D': 16, 'E': 6 ,'F': 5,'I': 6,'J': 4, 'K': 7, 'L': 2, 'Z': 0}\n",
    "\n",
    "# Imprimir el grafo y los pesos adicionales de cada nodo\n",
    "print(\"Grafo:\")\n",
    "print(graph2)\n",
    "print(\"Pesos adicionales de cada nodo:\")\n",
    "print(node_weights2)"
   ]
  },
  {
   "cell_type": "code",
   "execution_count": 7,
   "metadata": {},
   "outputs": [
    {
     "name": "stdout",
     "output_type": "stream",
     "text": [
      "Distancia más corta: (Heuristic) 84.04327068531245\n",
      "Costo total más corto:  35\n",
      "Costo + Heuristic:  119.04327068531245\n",
      "Camino más corto: ['A', 'D', 'E', 'Z']\n"
     ]
    }
   ],
   "source": [
    "# Definimos el nodo inicial y el nodo final\n",
    "start = 'A'\n",
    "end = 'Z'\n",
    "\n",
    "# Calculamos la distancia más corta y el camino más corto utilizando el método A*\n",
    "distance2, path2, total_cost2 = astar(graph2, start, end, node_weights2)\n",
    "\n",
    "# Imprimimos la distancia más corta y el camino más corto\n",
    "print(\"Distancia más corta: (Heuristic)\", distance2)\n",
    "print(\"Costo total más corto: \", total_cost2)\n",
    "print(\"Costo + Heuristic: \" , distance2+total_cost2)\n",
    "print(\"Camino más corto:\", path2)"
   ]
  }
 ],
 "metadata": {
  "kernelspec": {
   "display_name": "Python 3",
   "language": "python",
   "name": "python3"
  },
  "language_info": {
   "codemirror_mode": {
    "name": "ipython",
    "version": 3
   },
   "file_extension": ".py",
   "mimetype": "text/x-python",
   "name": "python",
   "nbconvert_exporter": "python",
   "pygments_lexer": "ipython3",
   "version": "3.10.10"
  },
  "orig_nbformat": 4,
  "vscode": {
   "interpreter": {
    "hash": "943bcba0af31a0a9d9a21b4d22d486bd90fd337d532887d4cde7a9c5462465f1"
   }
  }
 },
 "nbformat": 4,
 "nbformat_minor": 2
}
