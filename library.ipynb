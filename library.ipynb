{
 "cells": [
  {
   "cell_type": "code",
   "execution_count": 1,
   "metadata": {},
   "outputs": [
    {
     "name": "stdout",
     "output_type": "stream",
     "text": [
      "Symbol    Meaning        Cost\n",
      "🛣        Street         1\n",
      "🌲        Forest         10\n",
      "🚸        School street  2\n",
      "🚦        Traffic light  3\n",
      "🚔        Police         4\n",
      "🚘        Traffic        6\n",
      "🛑        Stop sign      5\n",
      "🚧        Construction   7\n",
      "🏢        Buildings      15\n"
     ]
    }
   ],
   "source": [
    "import numpy as np\n",
    "\n",
    "print('Symbol', '   Meaning       ', 'Cost')\n",
    "print('🛣', '       Street        ', 1)\n",
    "print('🌲', '       Forest        ', 10)\n",
    "print('🚸', '       School street ', 2)\n",
    "print('🚦', '       Traffic light ', 3)\n",
    "print('🚔', '       Police        ', 4)\n",
    "print('🚘', '       Traffic       ', 6)\n",
    "print('🛑', '       Stop sign     ', 5)\n",
    "print('🚧', '       Construction  ', 7)\n",
    "print('🏢', '       Buildings     ', 15)\n",
    "\n",
    "COSTS = {'🛣': 1, '🌲': 10, '🚸': 2, '🚦': 3, '🚔': 4, '🚘': 6, '🛑': 5, '🚧': 7, '🏢': 15}"
   ]
  },
  {
   "cell_type": "code",
   "execution_count": 2,
   "metadata": {},
   "outputs": [],
   "source": [
    "test_map_1 = np.array([['🛣', '🛣', '🛣', '🛣'],\n",
    "                       ['🛣', '🌲', '🌲', '🛣'],\n",
    "                       ['🛣', '🌲', '🌲', '🛣'],\n",
    "                       ['🛣', '🛣', '🛣', '🛣'],\n",
    "                       ['🌲', '🛣', '🛣', '🛣']])\n",
    "\n",
    "map1 = np.array([['🛣', '🚸', '🛣', '🛣', '🛣', '🛣', '🛣', '🛑', '🛣', '🛣', '🚦', '🛣', '🛣', '🛣', '🚔', '🛣'],\n",
    "                 ['🛣', '🌲', '🌲', '🛣', '🛣', '🌲', '🌲', '🛣', '🛣', '🚘', '🛣', '🛣', '🛣', '🛣', '🛣', '🛣'],\n",
    "                 ['🛣', '🛣', '🛣', '🛣', '🛣', '🌲', '🌲', '🛣', '🛣', '🚘', '🛣', '🌲', '🌲', '🛣', '🚘', '🛣'],\n",
    "                 ['🛣', '🛑', '🛣', '🚸', '🛣', '🌲', '🛣', '🛣', '🏢', '🛣', '🛣', '🌲', '🌲', '🛣', '🛣', '🚦'],\n",
    "                 ['🌲', '🚘', '🚘', '🛣', '🛣', '🛣', '🚘', '🛣', '🏢', '🛣', '🛣', '🌲', '🛣', '🛑', '🛣', '🛣'],\n",
    "                 ['🛣', '🛣', '🛣', '🏢', '🛣', '🛣', '🛣', '🛣', '🛣', '🛣', '🚦', '🛣', '🛣', '🛣', '🛣', '🚸'],\n",
    "                 ['🛣', '🛣', '🏢', '🏢', '🏢', '🛣', '🛑', '🛣', '🛣', '🛣', '🚘', '🛣', '🛣', '🚸', '🛣', '🛣'],\n",
    "                 ['🚦', '🛣', '🏢', '🚔', '🛣', '🛣', '🏢', '🚧', '🛣', '🛣', '🛣', '🛣', '🛣', '🛣', '🛣', '🚔'],\n",
    "                 ['🛣', '🛣', '🛣', '🚔', '🛣', '🛣', '🏢', '🏢', '🏢', '🚸', '🛣', '🛑', '🚘', '🚔', '🛣', '🛣'],\n",
    "                 ['🛣', '🛑', '🛣', '🛣', '🛣', '🛣', '🏢', '🏢', '🏢', '🛣', '🛣', '🏢', '🛣', '🛣', '🛣', '🚘'],\n",
    "                 ['🛣', '🛣', '🛣', '🌲', '🌲', '🚦', '🛣', '🛣', '🛣', '🛣', '🛣', '🛣', '🛣', '🛣', '🚧', '🚘'],\n",
    "                 ['🚘', '🚸', '🛣', '🌲', '🌲', '🛣', '🛣', '🛣', '🛣', '🚔', '🛣', '🛣', '🚦', '🚘', '🛣', '🛣'],\n",
    "                 ['🚘', '🛣', '🚧', '🛣', '🛣', '🛣', '🛑', '🛣', '🚘', '🚘', '🛣', '🚘', '🛣', '🛣', '🛣', '🛣']])\n",
    "map2=map1.copy()"
   ]
  },
  {
   "cell_type": "code",
   "execution_count": 3,
   "metadata": {},
   "outputs": [
    {
     "name": "stdout",
     "output_type": "stream",
     "text": [
      "El costo total del camino más corto es 29\n",
      "[(0, 0), (1, 0), (2, 0), (2, 1), (2, 2), (2, 3), (2, 4), (3, 4), (4, 4), (5, 4), (5, 5), (5, 6), (5, 7), (6, 7), (6, 8), (7, 8), (7, 9), (7, 10), (8, 10), (9, 10), (10, 10), (10, 11), (10, 12), (11, 12), (12, 12), (12, 13), (12, 14), (12, 15)]\n",
      "[[1 0 0 0 0 0 0 0 0 0 0 0 0 0 0 0]\n",
      " [1 0 0 0 0 0 0 0 0 0 0 0 0 0 0 0]\n",
      " [1 1 1 1 1 0 0 0 0 0 0 0 0 0 0 0]\n",
      " [0 0 0 0 1 0 0 0 0 0 0 0 0 0 0 0]\n",
      " [0 0 0 0 1 0 0 0 0 0 0 0 0 0 0 0]\n",
      " [0 0 0 0 1 1 1 1 0 0 0 0 0 0 0 0]\n",
      " [0 0 0 0 0 0 0 1 1 0 0 0 0 0 0 0]\n",
      " [0 0 0 0 0 0 0 0 1 1 1 0 0 0 0 0]\n",
      " [0 0 0 0 0 0 0 0 0 0 1 0 0 0 0 0]\n",
      " [0 0 0 0 0 0 0 0 0 0 1 0 0 0 0 0]\n",
      " [0 0 0 0 0 0 0 0 0 0 1 1 1 0 0 0]\n",
      " [0 0 0 0 0 0 0 0 0 0 0 0 1 0 0 0]\n",
      " [0 0 0 0 0 0 0 0 0 0 0 0 1 1 1 1]]\n",
      "[['1' '🚸' '🛣' '🛣' '🛣' '🛣' '🛣' '🛑' '🛣' '🛣' '🚦' '🛣' '🛣' '🛣' '🚔' '🛣']\n",
      " ['1' '🌲' '🌲' '🛣' '🛣' '🌲' '🌲' '🛣' '🛣' '🚘' '🛣' '🛣' '🛣' '🛣' '🛣' '🛣']\n",
      " ['1' '1' '1' '1' '1' '🌲' '🌲' '🛣' '🛣' '🚘' '🛣' '🌲' '🌲' '🛣' '🚘' '🛣']\n",
      " ['🛣' '🛑' '🛣' '🚸' '1' '🌲' '🛣' '🛣' '🏢' '🛣' '🛣' '🌲' '🌲' '🛣' '🛣' '🚦']\n",
      " ['🌲' '🚘' '🚘' '🛣' '1' '🛣' '🚘' '🛣' '🏢' '🛣' '🛣' '🌲' '🛣' '🛑' '🛣' '🛣']\n",
      " ['🛣' '🛣' '🛣' '🏢' '1' '1' '1' '1' '🛣' '🛣' '🚦' '🛣' '🛣' '🛣' '🛣' '🚸']\n",
      " ['🛣' '🛣' '🏢' '🏢' '🏢' '🛣' '🛑' '1' '1' '🛣' '🚘' '🛣' '🛣' '🚸' '🛣' '🛣']\n",
      " ['🚦' '🛣' '🏢' '🚔' '🛣' '🛣' '🏢' '🚧' '1' '1' '1' '🛣' '🛣' '🛣' '🛣' '🚔']\n",
      " ['🛣' '🛣' '🛣' '🚔' '🛣' '🛣' '🏢' '🏢' '🏢' '🚸' '1' '🛑' '🚘' '🚔' '🛣' '🛣']\n",
      " ['🛣' '🛑' '🛣' '🛣' '🛣' '🛣' '🏢' '🏢' '🏢' '🛣' '1' '🏢' '🛣' '🛣' '🛣' '🚘']\n",
      " ['🛣' '🛣' '🛣' '🌲' '🌲' '🚦' '🛣' '🛣' '🛣' '🛣' '1' '1' '1' '🛣' '🚧' '🚘']\n",
      " ['🚘' '🚸' '🛣' '🌲' '🌲' '🛣' '🛣' '🛣' '🛣' '🚔' '🛣' '🛣' '1' '🚘' '🛣' '🛣']\n",
      " ['🚘' '🛣' '🚧' '🛣' '🛣' '🛣' '🛑' '🛣' '🚘' '🚘' '🛣' '🚘' '1' '1' '1' '1']]\n",
      "[['🛣' '🚸' '🛣' '🛣' '🛣' '🛣' '🛣' '🛑' '🛣' '🛣' '🚦' '🛣' '🛣' '🛣' '🚔' '🛣']\n",
      " ['🛣' '🌲' '🌲' '🛣' '🛣' '🌲' '🌲' '🛣' '🛣' '🚘' '🛣' '🛣' '🛣' '🛣' '🛣' '🛣']\n",
      " ['🛣' '🛣' '🛣' '🛣' '🛣' '🌲' '🌲' '🛣' '🛣' '🚘' '🛣' '🌲' '🌲' '🛣' '🚘' '🛣']\n",
      " ['🛣' '🛑' '🛣' '🚸' '🛣' '🌲' '🛣' '🛣' '🏢' '🛣' '🛣' '🌲' '🌲' '🛣' '🛣' '🚦']\n",
      " ['🌲' '🚘' '🚘' '🛣' '🛣' '🛣' '🚘' '🛣' '🏢' '🛣' '🛣' '🌲' '🛣' '🛑' '🛣' '🛣']\n",
      " ['🛣' '🛣' '🛣' '🏢' '🛣' '🛣' '🛣' '🛣' '🛣' '🛣' '🚦' '🛣' '🛣' '🛣' '🛣' '🚸']\n",
      " ['🛣' '🛣' '🏢' '🏢' '🏢' '🛣' '🛑' '🛣' '🛣' '🛣' '🚘' '🛣' '🛣' '🚸' '🛣' '🛣']\n",
      " ['🚦' '🛣' '🏢' '🚔' '🛣' '🛣' '🏢' '🚧' '🛣' '🛣' '🛣' '🛣' '🛣' '🛣' '🛣' '🚔']\n",
      " ['🛣' '🛣' '🛣' '🚔' '🛣' '🛣' '🏢' '🏢' '🏢' '🚸' '🛣' '🛑' '🚘' '🚔' '🛣' '🛣']\n",
      " ['🛣' '🛑' '🛣' '🛣' '🛣' '🛣' '🏢' '🏢' '🏢' '🛣' '🛣' '🏢' '🛣' '🛣' '🛣' '🚘']\n",
      " ['🛣' '🛣' '🛣' '🌲' '🌲' '🚦' '🛣' '🛣' '🛣' '🛣' '🛣' '🛣' '🛣' '🛣' '🚧' '🚘']\n",
      " ['🚘' '🚸' '🛣' '🌲' '🌲' '🛣' '🛣' '🛣' '🛣' '🚔' '🛣' '🛣' '🚦' '🚘' '🛣' '🛣']\n",
      " ['🚘' '🛣' '🚧' '🛣' '🛣' '🛣' '🛑' '🛣' '🚘' '🚘' '🛣' '🚘' '🛣' '🛣' '🛣' '🛣']]\n"
     ]
    }
   ],
   "source": [
    "# Crea un np.array de costos en vez de symbolos para cada symbolo en map1\n",
    "cost_map1 = np.vectorize(lambda x: COSTS[x])(map1)\n",
    "\n",
    "import networkx as nx\n",
    "\n",
    "matrix=cost_map1\n",
    "\n",
    "# Creamos un grafo a partir de la matriz\n",
    "G = nx.DiGraph()\n",
    "num_rows, num_cols = len(matrix), len(matrix[0])\n",
    "for i in range(num_rows):\n",
    "    for j in range(num_cols):\n",
    "        weight = matrix[i][j]\n",
    "        if i < num_rows - 1:\n",
    "            G.add_edge((i, j), (i+1, j), weight=matrix[i+1][j])\n",
    "        if j < num_cols - 1:\n",
    "            G.add_edge((i, j), (i, j+1), weight=matrix[i][j+1])\n",
    "\n",
    "origin=(0,0)\n",
    "destination=(12,15)\n",
    "\n",
    "# Encontramos el camino más corto desde (0, 0) a (1, 1)\n",
    "shortest_path = nx.shortest_path(G, source=origin, target=destination, weight='weight')\n",
    "print(f\"El costo total del camino más corto es {nx.shortest_path_length(G, source=origin, target=destination, weight='weight')}\")\n",
    "\n",
    "print(shortest_path)\n",
    "\n",
    "# Creamos una matriz de 0 del mismo tamaño que la matriz de costos\n",
    "path_matrix = np.zeros(matrix.shape, dtype=int)\n",
    "\n",
    "# Establecemos los valores en el camino más corto en 1\n",
    "for i in range(len(shortest_path) - 1):\n",
    "    row1, col1 = shortest_path[i]\n",
    "    row2, col2 = shortest_path[i+1]\n",
    "    if row1 == row2:\n",
    "        path_matrix[row1, min(col1, col2):max(col1, col2)+1] = 1\n",
    "    else:\n",
    "        path_matrix[min(row1, row2):max(row1, row2)+1, col1] = 1\n",
    "\n",
    "print(path_matrix)\n",
    "\n",
    "map1[path_matrix == 1] = 1\n",
    "\n",
    "print(map1)\n",
    "print(map2)\n"
   ]
  }
 ],
 "metadata": {
  "kernelspec": {
   "display_name": "proba",
   "language": "python",
   "name": "python3"
  },
  "language_info": {
   "codemirror_mode": {
    "name": "ipython",
    "version": 3
   },
   "file_extension": ".py",
   "mimetype": "text/x-python",
   "name": "python",
   "nbconvert_exporter": "python",
   "pygments_lexer": "ipython3",
   "version": "3.9.16"
  },
  "orig_nbformat": 4,
  "vscode": {
   "interpreter": {
    "hash": "2dff9fdaf7b94c5adc137ae9efacb6eb17db3d464d727aaf2eb000ed4ad138c2"
   }
  }
 },
 "nbformat": 4,
 "nbformat_minor": 2
}
